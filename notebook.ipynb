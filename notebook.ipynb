{
 "cells": [
  {
   "cell_type": "code",
   "execution_count": 5,
   "id": "8dff0bdf",
   "metadata": {},
   "outputs": [],
   "source": [
    "import boa"
   ]
  },
  {
   "cell_type": "code",
   "execution_count": 17,
   "id": "d19ff788",
   "metadata": {},
   "outputs": [],
   "source": [
    "\n",
    "with boa.env.prank(\"0x0000000000000000000000000000000000001234\"):\n",
    "    erc20 = boa.load(\"contracts/testing/ERC20Mock.vy\", \"TEST\", \"TEST\", 18)"
   ]
  },
  {
   "cell_type": "code",
   "execution_count": null,
   "id": "f2471255",
   "metadata": {},
   "outputs": [],
   "source": []
  }
 ],
 "metadata": {
  "kernelspec": {
   "display_name": "Python 3 (ipykernel)",
   "language": "python",
   "name": "python3"
  },
  "language_info": {
   "codemirror_mode": {
    "name": "ipython",
    "version": 3
   },
   "file_extension": ".py",
   "mimetype": "text/x-python",
   "name": "python",
   "nbconvert_exporter": "python",
   "pygments_lexer": "ipython3",
   "version": "3.10.0"
  }
 },
 "nbformat": 4,
 "nbformat_minor": 5
}
