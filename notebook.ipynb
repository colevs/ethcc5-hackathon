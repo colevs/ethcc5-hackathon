{
 "cells": [
  {
   "cell_type": "code",
   "execution_count": 1,
   "id": "8dff0bdf",
   "metadata": {},
   "outputs": [],
   "source": [
    "import boa"
   ]
  },
  {
   "cell_type": "code",
   "execution_count": 19,
   "id": "d19ff788",
   "metadata": {},
   "outputs": [],
   "source": [
    "tokens = [\"USD\", \"EUR\"]\n",
    "erc20_list = [None] * len(tokens)\n",
    "erc4626_list = [None] * len(tokens)\n",
    "with boa.env.prank(\"0x0000000000000000000000000000000000001234\"):\n",
    "    for i in range(len(tokens)):\n",
    "        erc20_list[i] = boa.load(\"contracts/testing/ERC20Mock.vy\", token, token, 18)\n",
    "        erc4626_list[i] = boa.load(\"contracts/testing/ERC4626Mock.vy\", erc20_list[i].address)"
   ]
  },
  {
   "cell_type": "code",
   "execution_count": 20,
   "id": "f2471255",
   "metadata": {},
   "outputs": [
    {
     "name": "stdout",
     "output_type": "stream",
     "text": [
      "0x0000000000000000000000000000000000000082\n",
      "0x0000000000000000000000000000000000000084\n",
      "0x0000000000000000000000000000000000000083\n",
      "0x0000000000000000000000000000000000000085\n"
     ]
    }
   ],
   "source": [
    "mint_quantity = 10**6 * 10**18\n",
    "for  i in range(len(tokens)):\n",
    "    "
   ]
  },
  {
   "cell_type": "code",
   "execution_count": null,
   "id": "a8cb0f98",
   "metadata": {},
   "outputs": [],
   "source": []
  },
  {
   "cell_type": "code",
   "execution_count": null,
   "id": "f07ab9e3",
   "metadata": {},
   "outputs": [],
   "source": []
  }
 ],
 "metadata": {
  "kernelspec": {
   "display_name": "Python 3 (ipykernel)",
   "language": "python",
   "name": "python3"
  },
  "language_info": {
   "codemirror_mode": {
    "name": "ipython",
    "version": 3
   },
   "file_extension": ".py",
   "mimetype": "text/x-python",
   "name": "python",
   "nbconvert_exporter": "python",
   "pygments_lexer": "ipython3",
   "version": "3.8.10"
  }
 },
 "nbformat": 4,
 "nbformat_minor": 5
}
