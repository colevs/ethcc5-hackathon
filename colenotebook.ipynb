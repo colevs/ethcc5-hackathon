{
 "cells": [
  {
   "cell_type": "code",
   "execution_count": 1,
   "id": "8dff0bdf",
   "metadata": {},
   "outputs": [],
   "source": [
    "import boa\n",
    "from scripts.setup import setup"
   ]
  },
  {
   "cell_type": "code",
   "execution_count": null,
   "id": "2096f814",
   "metadata": {},
   "outputs": [],
   "source": [
    "setup_vars = setup()"
   ]
  },
  {
   "cell_type": "code",
   "execution_count": null,
   "id": "056b5054",
   "metadata": {},
   "outputs": [],
   "source": [
    "pool = setup_vars.pool"
   ]
  },
  {
   "cell_type": "code",
   "execution_count": null,
   "id": "f5f626a8",
   "metadata": {},
   "outputs": [],
   "source": [
    "print('Balances')\n",
    "print(setup_vars.erc4626_list[0].balanceOf(setup_vars.user))\n",
    "print(setup_vars.erc4626_list[1].balanceOf(setup_vars.user))"
   ]
  },
  {
   "cell_type": "code",
   "execution_count": null,
   "id": "184a4bc7",
   "metadata": {},
   "outputs": [],
   "source": [
    "with boa.env.prank(setup_vars.user):\n",
    "    pool.exchange(0, 1, int(0.5 * 10**6 * 10**18), 0)"
   ]
  },
  {
   "cell_type": "code",
   "execution_count": null,
   "id": "96fdbcc9",
   "metadata": {},
   "outputs": [],
   "source": [
    "print('Balances')\n",
    "print(setup_vars.erc4626_list[0].balanceOf(setup_vars.user))\n",
    "print(setup_vars.erc4626_list[1].balanceOf(setup_vars.user))"
   ]
  },
  {
   "cell_type": "code",
   "execution_count": null,
   "id": "b7bc99f7",
   "metadata": {},
   "outputs": [],
   "source": [
    "print('Underlying balances')\n",
    "print(setup_vars.erc20_list[0].balanceOf(setup_vars.user))\n",
    "print(setup_vars.erc20_list[1].balanceOf(setup_vars.user))"
   ]
  },
  {
   "cell_type": "code",
   "execution_count": null,
   "id": "91e96a17",
   "metadata": {},
   "outputs": [],
   "source": [
    "with boa.env.prank(setup_vars.user):\n",
    "    pool.exchange_underlying(0, 1, int(0.5 * 10**6 * 10**18), 0)"
   ]
  },
  {
   "cell_type": "code",
   "execution_count": null,
   "id": "8aa40445",
   "metadata": {},
   "outputs": [],
   "source": [
    "print('Underlying balances')\n",
    "print(setup_vars.erc20_list[0].balanceOf(setup_vars.user))\n",
    "print(setup_vars.erc20_list[1].balanceOf(setup_vars.user))"
   ]
  },
  {
   "cell_type": "code",
   "execution_count": null,
   "id": "688b7eff",
   "metadata": {},
   "outputs": [],
   "source": []
  }
 ],
 "metadata": {
  "kernelspec": {
   "display_name": "Python 3 (ipykernel)",
   "language": "python",
   "name": "python3"
  },
  "language_info": {
   "codemirror_mode": {
    "name": "ipython",
    "version": 3
   },
   "file_extension": ".py",
   "mimetype": "text/x-python",
   "name": "python",
   "nbconvert_exporter": "python",
   "pygments_lexer": "ipython3",
   "version": "3.8.10"
  }
 },
 "nbformat": 4,
 "nbformat_minor": 5
}
