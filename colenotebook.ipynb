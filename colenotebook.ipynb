{
 "cells": [
  {
   "cell_type": "code",
   "execution_count": 1,
   "id": "8dff0bdf",
   "metadata": {},
   "outputs": [],
   "source": [
    "import boa\n",
    "from scripts.setup import setup"
   ]
  },
  {
   "cell_type": "code",
   "execution_count": 2,
   "id": "2096f814",
   "metadata": {},
   "outputs": [
    {
     "name": "stderr",
     "output_type": "stream",
     "text": [
      "Warning: `bitwise_or()` is deprecated! Please use the | operator instead.\n",
      "Warning: `bitwise_and()` is deprecated! Please use the & operator instead.\n"
     ]
    }
   ],
   "source": [
    "setup_vars = setup()"
   ]
  },
  {
   "cell_type": "code",
   "execution_count": 3,
   "id": "7dd6ea42",
   "metadata": {},
   "outputs": [],
   "source": [
    "pool = setup_vars.pool"
   ]
  },
  {
   "cell_type": "code",
   "execution_count": 4,
   "id": "7a4e0680",
   "metadata": {},
   "outputs": [
    {
     "name": "stdout",
     "output_type": "stream",
     "text": [
      "2500000000000001216348160\n",
      "2500000000000001216348160\n"
     ]
    }
   ],
   "source": [
    "print(setup_vars.erc4626_list[0].balanceOf(setup_vars.user))\n",
    "print(setup_vars.erc4626_list[1].balanceOf(setup_vars.user))"
   ]
  },
  {
   "cell_type": "code",
   "execution_count": 5,
   "id": "d19ff788",
   "metadata": {},
   "outputs": [],
   "source": [
    "# with boa.env.prank(setup_vars.user):\n",
    "#     for erc4626 in setup_vars.erc4626_list:\n",
    "#         erc4626.approve(setup_vars.pool, 2**256 - 1)\n",
    "        \n",
    "#     liquidity_amounts = [setup_vars.erc4626_list[0].balanceOf(setup_vars.user)//2, setup_vars.erc4626_list[1].balanceOf(setup_vars.user)//2]\n",
    "#     setup_vars.pool.add_liquidity(liquidity_amounts, 0)"
   ]
  },
  {
   "cell_type": "code",
   "execution_count": 6,
   "id": "f2471255",
   "metadata": {},
   "outputs": [
    {
     "name": "stdout",
     "output_type": "stream",
     "text": [
      "5011552038246618270780568\n"
     ]
    }
   ],
   "source": [
    "print(setup_vars.lp_token.balanceOf(setup_vars.user))"
   ]
  },
  {
   "cell_type": "code",
   "execution_count": 7,
   "id": "ea8dbdf0",
   "metadata": {},
   "outputs": [],
   "source": [
    "#print(pool.eval(\"self.balances\"))"
   ]
  },
  {
   "cell_type": "code",
   "execution_count": 8,
   "id": "184a4bc7",
   "metadata": {},
   "outputs": [],
   "source": [
    "with boa.env.prank(setup_vars.user):\n",
    "    pool.exchange(0, 1, int(0.5 * 10**6 * 10**18), 0)"
   ]
  },
  {
   "cell_type": "code",
   "execution_count": 9,
   "id": "69b3409b",
   "metadata": {},
   "outputs": [],
   "source": [
    "#print(pool.eval(\"self.balances\"))"
   ]
  },
  {
   "cell_type": "code",
   "execution_count": 10,
   "id": "76d055f7",
   "metadata": {},
   "outputs": [],
   "source": [
    "# with boa.env.prank(setup_vars.user):\n",
    "#     print('4626 balances after withdraw')\n",
    "#     for erc4626 in setup_vars.erc4626_list:\n",
    "#         erc4626.withdraw(int(1 * 10**6 * 10**18))\n",
    "#         print(erc4626.balanceOf(setup_vars.user))"
   ]
  },
  {
   "cell_type": "code",
   "execution_count": 11,
   "id": "58eff95c",
   "metadata": {},
   "outputs": [
    {
     "name": "stdout",
     "output_type": "stream",
     "text": [
      "Underlying balances\n",
      "2499999999999998783651840\n",
      "2499999999999998783651840\n"
     ]
    }
   ],
   "source": [
    "print('Underlying balances')\n",
    "print(setup_vars.erc20_list[0].balanceOf(setup_vars.user))\n",
    "print(setup_vars.erc20_list[1].balanceOf(setup_vars.user))"
   ]
  },
  {
   "cell_type": "code",
   "execution_count": 12,
   "id": "3274d9dc",
   "metadata": {},
   "outputs": [],
   "source": [
    "with boa.env.prank(setup_vars.user):\n",
    "    pool.exchange_underlying(0, 1, int(0.1 * 10**6 * 10**18), 0)"
   ]
  },
  {
   "cell_type": "code",
   "execution_count": null,
   "id": "c20dba13",
   "metadata": {},
   "outputs": [
    {
     "name": "stdout",
     "output_type": "stream",
     "text": [
      "2399999999999998792040448\n"
     ]
    }
   ],
   "source": [
    "balance_underlying = setup_vars.erc20_list[0].balanceOf(setup_vars.user)\n",
    "print(balance_underlying)\n",
    "print(pool.eval(\"self.balances\"))"
   ]
  },
  {
   "cell_type": "code",
   "execution_count": null,
   "id": "4c713035",
   "metadata": {},
   "outputs": [],
   "source": []
  }
 ],
 "metadata": {
  "kernelspec": {
   "display_name": "Python 3 (ipykernel)",
   "language": "python",
   "name": "python3"
  },
  "language_info": {
   "codemirror_mode": {
    "name": "ipython",
    "version": 3
   },
   "file_extension": ".py",
   "mimetype": "text/x-python",
   "name": "python",
   "nbconvert_exporter": "python",
   "pygments_lexer": "ipython3",
   "version": "3.8.10"
  }
 },
 "nbformat": 4,
 "nbformat_minor": 5
}
