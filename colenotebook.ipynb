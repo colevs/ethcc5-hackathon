{
 "cells": [
  {
   "cell_type": "code",
   "execution_count": 1,
   "id": "8dff0bdf",
   "metadata": {},
   "outputs": [],
   "source": [
    "import boa\n",
    "from scripts.setup import setup"
   ]
  },
  {
   "cell_type": "code",
   "execution_count": null,
   "id": "2096f814",
   "metadata": {},
   "outputs": [],
   "source": [
    "setup_vars = setup()"
   ]
  },
  {
   "cell_type": "code",
   "execution_count": 3,
   "id": "7e8e689d",
   "metadata": {},
   "outputs": [
    {
     "name": "stdout",
     "output_type": "stream",
     "text": [
      "Info(deployer='0x0000000000000000000000000000000000001234', user='0x0000000000000000000000000000000000001235', tokens=['USDC', 'ETH'], erc20_list=[<boa.contract.VyperContract object at 0x7fb4ea4e7e50>, <boa.contract.VyperContract object at 0x7fb4e9b4f640>], erc4626_list=[<boa.contract.VyperContract object at 0x7fb4ea3adf70>, <boa.contract.VyperContract object at 0x7fb4ea3a4b20>], pool=<boa.contract.VyperContract object at 0x7fb4ea399700>, lp_token=<boa.contract.VyperContract object at 0x7fb4e965faf0>)\n"
     ]
    }
   ],
   "source": [
    "print(setup_vars)"
   ]
  },
  {
   "cell_type": "code",
   "execution_count": 7,
   "id": "7a4e0680",
   "metadata": {},
   "outputs": [
    {
     "name": "stdout",
     "output_type": "stream",
     "text": [
      "2500000000000000000000000\n",
      "2500000000000000000000000\n"
     ]
    }
   ],
   "source": [
    "print(setup_vars.erc4626_list[0].balanceOf(setup_vars.user))\n",
    "print(setup_vars.erc4626_list[1].balanceOf(setup_vars.user))"
   ]
  },
  {
   "cell_type": "code",
   "execution_count": 11,
   "id": "d19ff788",
   "metadata": {},
   "outputs": [
    {
     "ename": "BoaError",
     "evalue": "Revert(b'') \n\n<contracts/CurveCryptoSwap4626.vy at 0x000000000000000000000000000000000000006b, compiled with vyper-0.3.4+f6a2dcb3>\n <dev: clamp gt 0>\n  contract \"contracts/CurveCryptoSwap4626.vy\", function \"_calc_token_fee\", line 925:25 \n       924             Sdiff += avg - _x\n  ---> 925     return fee * Sdiff / S + NOISE_FEE\n  ----------------------------------^\n       926\n <locals: amounts=[0, 0], xp=[2501000000000000000000000, 2000800000000000000000000], fee=11374239, S=0, avg=0, Sdiff=0>\n",
     "output_type": "error",
     "traceback": [
      "\u001b[0;31m---------------------------------------------------------------------------\u001b[0m",
      "\u001b[0;31mBoaError\u001b[0m                                  Traceback (most recent call last)",
      "Input \u001b[0;32mIn [11]\u001b[0m, in \u001b[0;36m<cell line: 1>\u001b[0;34m()\u001b[0m\n\u001b[1;32m      2\u001b[0m \u001b[38;5;28;01mfor\u001b[39;00m erc4626 \u001b[38;5;129;01min\u001b[39;00m setup_vars\u001b[38;5;241m.\u001b[39merc4626_list:\n\u001b[1;32m      3\u001b[0m     erc4626\u001b[38;5;241m.\u001b[39mapprove(setup_vars\u001b[38;5;241m.\u001b[39mpool, \u001b[38;5;241m2\u001b[39m\u001b[38;5;241m*\u001b[39m\u001b[38;5;241m*\u001b[39m\u001b[38;5;241m256\u001b[39m \u001b[38;5;241m-\u001b[39m \u001b[38;5;241m1\u001b[39m)\n\u001b[0;32m----> 5\u001b[0m \u001b[43msetup_vars\u001b[49m\u001b[38;5;241;43m.\u001b[39;49m\u001b[43mpool\u001b[49m\u001b[38;5;241;43m.\u001b[39;49m\u001b[43madd_liquidity\u001b[49m\u001b[43m(\u001b[49m\u001b[43m[\u001b[49m\u001b[38;5;241;43m1000\u001b[39;49m\u001b[43m \u001b[49m\u001b[38;5;241;43m*\u001b[39;49m\u001b[43m \u001b[49m\u001b[38;5;241;43m10\u001b[39;49m\u001b[38;5;241;43m*\u001b[39;49m\u001b[38;5;241;43m*\u001b[39;49m\u001b[38;5;241;43m18\u001b[39;49m\u001b[43m,\u001b[49m\u001b[43m \u001b[49m\u001b[38;5;241;43m1000\u001b[39;49m\u001b[43m \u001b[49m\u001b[38;5;241;43m*\u001b[39;49m\u001b[43m \u001b[49m\u001b[38;5;241;43m10\u001b[39;49m\u001b[38;5;241;43m*\u001b[39;49m\u001b[38;5;241;43m*\u001b[39;49m\u001b[38;5;241;43m18\u001b[39;49m\u001b[43m]\u001b[49m\u001b[43m,\u001b[49m\u001b[43m \u001b[49m\u001b[38;5;241;43m0\u001b[39;49m\u001b[43m)\u001b[49m\n\u001b[1;32m      6\u001b[0m \u001b[38;5;28mprint\u001b[39m(setup_vars\u001b[38;5;241m.\u001b[39mlp_token\u001b[38;5;241m.\u001b[39mbalanceOf(setup_vars\u001b[38;5;241m.\u001b[39muser))\n",
      "File \u001b[0;32m~/.local/lib/python3.8/site-packages/boa/contract.py:564\u001b[0m, in \u001b[0;36mVyperFunction.__call__\u001b[0;34m(self, *args, **kwargs)\u001b[0m\n\u001b[1;32m    557\u001b[0m computation \u001b[38;5;241m=\u001b[39m \u001b[38;5;28mself\u001b[39m\u001b[38;5;241m.\u001b[39menv\u001b[38;5;241m.\u001b[39mexecute_code(\n\u001b[1;32m    558\u001b[0m     to_address\u001b[38;5;241m=\u001b[39m\u001b[38;5;28mself\u001b[39m\u001b[38;5;241m.\u001b[39mcontract\u001b[38;5;241m.\u001b[39maddress,\n\u001b[1;32m    559\u001b[0m     bytecode\u001b[38;5;241m=\u001b[39m\u001b[38;5;28mself\u001b[39m\u001b[38;5;241m.\u001b[39mcontract\u001b[38;5;241m.\u001b[39mbytecode,\n\u001b[1;32m    560\u001b[0m     data\u001b[38;5;241m=\u001b[39mcalldata_bytes,\n\u001b[1;32m    561\u001b[0m )\n\u001b[1;32m    563\u001b[0m typ \u001b[38;5;241m=\u001b[39m \u001b[38;5;28mself\u001b[39m\u001b[38;5;241m.\u001b[39mfn_signature\u001b[38;5;241m.\u001b[39mreturn_type\n\u001b[0;32m--> 564\u001b[0m \u001b[38;5;28;01mreturn\u001b[39;00m \u001b[38;5;28;43mself\u001b[39;49m\u001b[38;5;241;43m.\u001b[39;49m\u001b[43mcontract\u001b[49m\u001b[38;5;241;43m.\u001b[39;49m\u001b[43mmarshal_to_python\u001b[49m\u001b[43m(\u001b[49m\u001b[43mcomputation\u001b[49m\u001b[43m,\u001b[49m\u001b[43m \u001b[49m\u001b[43mtyp\u001b[49m\u001b[43m)\u001b[49m\n",
      "File \u001b[0;32m~/.local/lib/python3.8/site-packages/boa/contract.py:279\u001b[0m, in \u001b[0;36mVyperContract.marshal_to_python\u001b[0;34m(self, computation, vyper_typ)\u001b[0m\n\u001b[1;32m    276\u001b[0m \u001b[38;5;28mself\u001b[39m\u001b[38;5;241m.\u001b[39m_computation \u001b[38;5;241m=\u001b[39m computation  \u001b[38;5;66;03m# for further inspection\u001b[39;00m\n\u001b[1;32m    278\u001b[0m \u001b[38;5;28;01mif\u001b[39;00m computation\u001b[38;5;241m.\u001b[39mis_error:\n\u001b[0;32m--> 279\u001b[0m     \u001b[38;5;28;43mself\u001b[39;49m\u001b[38;5;241;43m.\u001b[39;49m\u001b[43mhandle_error\u001b[49m\u001b[43m(\u001b[49m\u001b[43mcomputation\u001b[49m\u001b[43m)\u001b[49m\n\u001b[1;32m    281\u001b[0m \u001b[38;5;28;01mif\u001b[39;00m vyper_typ \u001b[38;5;129;01mis\u001b[39;00m \u001b[38;5;28;01mNone\u001b[39;00m:\n\u001b[1;32m    282\u001b[0m     \u001b[38;5;28;01mreturn\u001b[39;00m \u001b[38;5;28;01mNone\u001b[39;00m\n",
      "File \u001b[0;32m~/.local/lib/python3.8/site-packages/boa/contract.py:326\u001b[0m, in \u001b[0;36mVyperContract.handle_error\u001b[0;34m(self, computation)\u001b[0m\n\u001b[1;32m    323\u001b[0m         \u001b[38;5;28;01mif\u001b[39;00m \u001b[38;5;28mlen\u001b[39m(frame_detail) \u001b[38;5;241m>\u001b[39m \u001b[38;5;241m0\u001b[39m:\n\u001b[1;32m    324\u001b[0m             error_msg \u001b[38;5;241m+\u001b[39m\u001b[38;5;241m=\u001b[39m \u001b[38;5;124mf\u001b[39m\u001b[38;5;124m\"\u001b[39m\u001b[38;5;124m \u001b[39m\u001b[38;5;132;01m{\u001b[39;00mframe_detail\u001b[38;5;132;01m}\u001b[39;00m\u001b[38;5;124m\"\u001b[39m\n\u001b[0;32m--> 326\u001b[0m \u001b[38;5;28;01mraise\u001b[39;00m BoaError(error_msg)\n",
      "\u001b[0;31mBoaError\u001b[0m: Revert(b'') \n\n<contracts/CurveCryptoSwap4626.vy at 0x000000000000000000000000000000000000006b, compiled with vyper-0.3.4+f6a2dcb3>\n <dev: clamp gt 0>\n  contract \"contracts/CurveCryptoSwap4626.vy\", function \"_calc_token_fee\", line 925:25 \n       924             Sdiff += avg - _x\n  ---> 925     return fee * Sdiff / S + NOISE_FEE\n  ----------------------------------^\n       926\n <locals: amounts=[0, 0], xp=[2501000000000000000000000, 2000800000000000000000000], fee=11374239, S=0, avg=0, Sdiff=0>\n"
     ]
    }
   ],
   "source": [
    "with boa.env.prank(setup_vars.user):\n",
    "    for erc4626 in setup_vars.erc4626_list:\n",
    "        erc4626.approve(setup_vars.pool, 2**256 - 1)\n",
    "        \n",
    "    liquidity_amounts = [setup_vars.erc4626_list[0].balanceOf(setup_vars.user)//2, setup_vars.erc4626_list[1].balanceOf(setup_vars.user)//2]\n",
    "    setup_vars.pool.add_liquidity(liquidity_amounts, 0)"
   ]
  },
  {
   "cell_type": "code",
   "execution_count": null,
   "id": "f2471255",
   "metadata": {},
   "outputs": [],
   "source": [
    "print(setup_vars.lp_token.balanceOf(setup_vars.user))"
   ]
  },
  {
   "cell_type": "code",
   "execution_count": null,
   "id": "b5ca7bd3",
   "metadata": {},
   "outputs": [],
   "source": []
  },
  {
   "cell_type": "code",
   "execution_count": null,
   "id": "184a4bc7",
   "metadata": {},
   "outputs": [],
   "source": []
  }
 ],
 "metadata": {
  "kernelspec": {
   "display_name": "Python 3 (ipykernel)",
   "language": "python",
   "name": "python3"
  },
  "language_info": {
   "codemirror_mode": {
    "name": "ipython",
    "version": 3
   },
   "file_extension": ".py",
   "mimetype": "text/x-python",
   "name": "python",
   "nbconvert_exporter": "python",
   "pygments_lexer": "ipython3",
   "version": "3.8.10"
  }
 },
 "nbformat": 4,
 "nbformat_minor": 5
}
